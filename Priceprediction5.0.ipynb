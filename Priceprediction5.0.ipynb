{
 "cells": [
  {
   "cell_type": "markdown",
   "metadata": {},
   "source": [
    "# KAGGLE Competition\n",
    "House Prices - Advanced Regression Techniques\n",
    "Competition Description\n",
    "\n",
    "\n",
    "Ask a home buyer to describe their dream house, and they probably won't begin with the height of the basement ceiling or the proximity to an east-west railroad. But this playground competition's dataset proves that much more influences price negotiations than the number of bedrooms or a white-picket fence.\n",
    "\n",
    "With 79 explanatory variables describing (almost) every aspect of residential homes in Ames, Iowa, this competition challenges you to predict the final price of each home.\n",
    "## Goal\n",
    "It is your job to predict the sales price for each house. For each Id in the test set, you must predict the value of the SalePrice variable. \n",
    "### Metric\n",
    "Submissions are evaluated on Root-Mean-Squared-Error (RMSE) between the logarithm of the predicted value and the logarithm of the observed sales price. (Taking logs means that errors in predicting expensive houses and cheap houses will affect the result equally.)"
   ]
  },
  {
   "cell_type": "markdown",
   "metadata": {},
   "source": [
    "## Inputs\n",
    "### Imports"
   ]
  },
  {
   "cell_type": "code",
   "execution_count": 3,
   "metadata": {},
   "outputs": [],
   "source": [
    "import pandas as pd\n",
    "import numpy as np\n",
    "from sklearn.model_selection import cross_val_score\n",
    "from sklearn.linear_model import LinearRegression\n",
    "pd.set_option('max_columns',100)\n",
    "pd.set_option('max_rows',90)\n",
    "from pycaret.regression import setup, compare_models"
   ]
  },
  {
   "cell_type": "markdown",
   "metadata": {},
   "source": [
    "### Reading data"
   ]
  },
  {
   "cell_type": "code",
   "execution_count": 4,
   "metadata": {},
   "outputs": [],
   "source": [
    "train0=pd.read_csv('train.csv')\n",
    "test0=pd.read_csv('test.csv')"
   ]
  },
  {
   "cell_type": "code",
   "execution_count": 5,
   "metadata": {},
   "outputs": [
    {
     "data": {
      "text/html": [
       "<div>\n",
       "<style scoped>\n",
       "    .dataframe tbody tr th:only-of-type {\n",
       "        vertical-align: middle;\n",
       "    }\n",
       "\n",
       "    .dataframe tbody tr th {\n",
       "        vertical-align: top;\n",
       "    }\n",
       "\n",
       "    .dataframe thead th {\n",
       "        text-align: right;\n",
       "    }\n",
       "</style>\n",
       "<table border=\"1\" class=\"dataframe\">\n",
       "  <thead>\n",
       "    <tr style=\"text-align: right;\">\n",
       "      <th></th>\n",
       "      <th>Id</th>\n",
       "      <th>MSSubClass</th>\n",
       "      <th>MSZoning</th>\n",
       "      <th>LotFrontage</th>\n",
       "      <th>LotArea</th>\n",
       "      <th>Street</th>\n",
       "      <th>Alley</th>\n",
       "      <th>LotShape</th>\n",
       "      <th>LandContour</th>\n",
       "      <th>Utilities</th>\n",
       "      <th>LotConfig</th>\n",
       "      <th>LandSlope</th>\n",
       "      <th>Neighborhood</th>\n",
       "      <th>Condition1</th>\n",
       "      <th>Condition2</th>\n",
       "      <th>BldgType</th>\n",
       "      <th>HouseStyle</th>\n",
       "      <th>OverallQual</th>\n",
       "      <th>OverallCond</th>\n",
       "      <th>YearBuilt</th>\n",
       "      <th>YearRemodAdd</th>\n",
       "      <th>RoofStyle</th>\n",
       "      <th>RoofMatl</th>\n",
       "      <th>Exterior1st</th>\n",
       "      <th>Exterior2nd</th>\n",
       "      <th>MasVnrType</th>\n",
       "      <th>MasVnrArea</th>\n",
       "      <th>ExterQual</th>\n",
       "      <th>ExterCond</th>\n",
       "      <th>Foundation</th>\n",
       "      <th>BsmtQual</th>\n",
       "      <th>BsmtCond</th>\n",
       "      <th>BsmtExposure</th>\n",
       "      <th>BsmtFinType1</th>\n",
       "      <th>BsmtFinSF1</th>\n",
       "      <th>BsmtFinType2</th>\n",
       "      <th>BsmtFinSF2</th>\n",
       "      <th>BsmtUnfSF</th>\n",
       "      <th>TotalBsmtSF</th>\n",
       "      <th>Heating</th>\n",
       "      <th>HeatingQC</th>\n",
       "      <th>CentralAir</th>\n",
       "      <th>Electrical</th>\n",
       "      <th>1stFlrSF</th>\n",
       "      <th>2ndFlrSF</th>\n",
       "      <th>LowQualFinSF</th>\n",
       "      <th>GrLivArea</th>\n",
       "      <th>BsmtFullBath</th>\n",
       "      <th>BsmtHalfBath</th>\n",
       "      <th>FullBath</th>\n",
       "      <th>HalfBath</th>\n",
       "      <th>BedroomAbvGr</th>\n",
       "      <th>KitchenAbvGr</th>\n",
       "      <th>KitchenQual</th>\n",
       "      <th>TotRmsAbvGrd</th>\n",
       "      <th>Functional</th>\n",
       "      <th>Fireplaces</th>\n",
       "      <th>FireplaceQu</th>\n",
       "      <th>GarageType</th>\n",
       "      <th>GarageYrBlt</th>\n",
       "      <th>GarageFinish</th>\n",
       "      <th>GarageCars</th>\n",
       "      <th>GarageArea</th>\n",
       "      <th>GarageQual</th>\n",
       "      <th>GarageCond</th>\n",
       "      <th>PavedDrive</th>\n",
       "      <th>WoodDeckSF</th>\n",
       "      <th>OpenPorchSF</th>\n",
       "      <th>EnclosedPorch</th>\n",
       "      <th>3SsnPorch</th>\n",
       "      <th>ScreenPorch</th>\n",
       "      <th>PoolArea</th>\n",
       "      <th>PoolQC</th>\n",
       "      <th>Fence</th>\n",
       "      <th>MiscFeature</th>\n",
       "      <th>MiscVal</th>\n",
       "      <th>MoSold</th>\n",
       "      <th>YrSold</th>\n",
       "      <th>SaleType</th>\n",
       "      <th>SaleCondition</th>\n",
       "      <th>SalePrice</th>\n",
       "    </tr>\n",
       "  </thead>\n",
       "  <tbody>\n",
       "    <tr>\n",
       "      <th>0</th>\n",
       "      <td>1</td>\n",
       "      <td>60</td>\n",
       "      <td>RL</td>\n",
       "      <td>65.0</td>\n",
       "      <td>8450</td>\n",
       "      <td>Pave</td>\n",
       "      <td>NaN</td>\n",
       "      <td>Reg</td>\n",
       "      <td>Lvl</td>\n",
       "      <td>AllPub</td>\n",
       "      <td>Inside</td>\n",
       "      <td>Gtl</td>\n",
       "      <td>CollgCr</td>\n",
       "      <td>Norm</td>\n",
       "      <td>Norm</td>\n",
       "      <td>1Fam</td>\n",
       "      <td>2Story</td>\n",
       "      <td>7</td>\n",
       "      <td>5</td>\n",
       "      <td>2003</td>\n",
       "      <td>2003</td>\n",
       "      <td>Gable</td>\n",
       "      <td>CompShg</td>\n",
       "      <td>VinylSd</td>\n",
       "      <td>VinylSd</td>\n",
       "      <td>BrkFace</td>\n",
       "      <td>196.0</td>\n",
       "      <td>Gd</td>\n",
       "      <td>TA</td>\n",
       "      <td>PConc</td>\n",
       "      <td>Gd</td>\n",
       "      <td>TA</td>\n",
       "      <td>No</td>\n",
       "      <td>GLQ</td>\n",
       "      <td>706</td>\n",
       "      <td>Unf</td>\n",
       "      <td>0</td>\n",
       "      <td>150</td>\n",
       "      <td>856</td>\n",
       "      <td>GasA</td>\n",
       "      <td>Ex</td>\n",
       "      <td>Y</td>\n",
       "      <td>SBrkr</td>\n",
       "      <td>856</td>\n",
       "      <td>854</td>\n",
       "      <td>0</td>\n",
       "      <td>1710</td>\n",
       "      <td>1</td>\n",
       "      <td>0</td>\n",
       "      <td>2</td>\n",
       "      <td>1</td>\n",
       "      <td>3</td>\n",
       "      <td>1</td>\n",
       "      <td>Gd</td>\n",
       "      <td>8</td>\n",
       "      <td>Typ</td>\n",
       "      <td>0</td>\n",
       "      <td>NaN</td>\n",
       "      <td>Attchd</td>\n",
       "      <td>2003.0</td>\n",
       "      <td>RFn</td>\n",
       "      <td>2</td>\n",
       "      <td>548</td>\n",
       "      <td>TA</td>\n",
       "      <td>TA</td>\n",
       "      <td>Y</td>\n",
       "      <td>0</td>\n",
       "      <td>61</td>\n",
       "      <td>0</td>\n",
       "      <td>0</td>\n",
       "      <td>0</td>\n",
       "      <td>0</td>\n",
       "      <td>NaN</td>\n",
       "      <td>NaN</td>\n",
       "      <td>NaN</td>\n",
       "      <td>0</td>\n",
       "      <td>2</td>\n",
       "      <td>2008</td>\n",
       "      <td>WD</td>\n",
       "      <td>Normal</td>\n",
       "      <td>208500</td>\n",
       "    </tr>\n",
       "    <tr>\n",
       "      <th>1</th>\n",
       "      <td>2</td>\n",
       "      <td>20</td>\n",
       "      <td>RL</td>\n",
       "      <td>80.0</td>\n",
       "      <td>9600</td>\n",
       "      <td>Pave</td>\n",
       "      <td>NaN</td>\n",
       "      <td>Reg</td>\n",
       "      <td>Lvl</td>\n",
       "      <td>AllPub</td>\n",
       "      <td>FR2</td>\n",
       "      <td>Gtl</td>\n",
       "      <td>Veenker</td>\n",
       "      <td>Feedr</td>\n",
       "      <td>Norm</td>\n",
       "      <td>1Fam</td>\n",
       "      <td>1Story</td>\n",
       "      <td>6</td>\n",
       "      <td>8</td>\n",
       "      <td>1976</td>\n",
       "      <td>1976</td>\n",
       "      <td>Gable</td>\n",
       "      <td>CompShg</td>\n",
       "      <td>MetalSd</td>\n",
       "      <td>MetalSd</td>\n",
       "      <td>None</td>\n",
       "      <td>0.0</td>\n",
       "      <td>TA</td>\n",
       "      <td>TA</td>\n",
       "      <td>CBlock</td>\n",
       "      <td>Gd</td>\n",
       "      <td>TA</td>\n",
       "      <td>Gd</td>\n",
       "      <td>ALQ</td>\n",
       "      <td>978</td>\n",
       "      <td>Unf</td>\n",
       "      <td>0</td>\n",
       "      <td>284</td>\n",
       "      <td>1262</td>\n",
       "      <td>GasA</td>\n",
       "      <td>Ex</td>\n",
       "      <td>Y</td>\n",
       "      <td>SBrkr</td>\n",
       "      <td>1262</td>\n",
       "      <td>0</td>\n",
       "      <td>0</td>\n",
       "      <td>1262</td>\n",
       "      <td>0</td>\n",
       "      <td>1</td>\n",
       "      <td>2</td>\n",
       "      <td>0</td>\n",
       "      <td>3</td>\n",
       "      <td>1</td>\n",
       "      <td>TA</td>\n",
       "      <td>6</td>\n",
       "      <td>Typ</td>\n",
       "      <td>1</td>\n",
       "      <td>TA</td>\n",
       "      <td>Attchd</td>\n",
       "      <td>1976.0</td>\n",
       "      <td>RFn</td>\n",
       "      <td>2</td>\n",
       "      <td>460</td>\n",
       "      <td>TA</td>\n",
       "      <td>TA</td>\n",
       "      <td>Y</td>\n",
       "      <td>298</td>\n",
       "      <td>0</td>\n",
       "      <td>0</td>\n",
       "      <td>0</td>\n",
       "      <td>0</td>\n",
       "      <td>0</td>\n",
       "      <td>NaN</td>\n",
       "      <td>NaN</td>\n",
       "      <td>NaN</td>\n",
       "      <td>0</td>\n",
       "      <td>5</td>\n",
       "      <td>2007</td>\n",
       "      <td>WD</td>\n",
       "      <td>Normal</td>\n",
       "      <td>181500</td>\n",
       "    </tr>\n",
       "    <tr>\n",
       "      <th>2</th>\n",
       "      <td>3</td>\n",
       "      <td>60</td>\n",
       "      <td>RL</td>\n",
       "      <td>68.0</td>\n",
       "      <td>11250</td>\n",
       "      <td>Pave</td>\n",
       "      <td>NaN</td>\n",
       "      <td>IR1</td>\n",
       "      <td>Lvl</td>\n",
       "      <td>AllPub</td>\n",
       "      <td>Inside</td>\n",
       "      <td>Gtl</td>\n",
       "      <td>CollgCr</td>\n",
       "      <td>Norm</td>\n",
       "      <td>Norm</td>\n",
       "      <td>1Fam</td>\n",
       "      <td>2Story</td>\n",
       "      <td>7</td>\n",
       "      <td>5</td>\n",
       "      <td>2001</td>\n",
       "      <td>2002</td>\n",
       "      <td>Gable</td>\n",
       "      <td>CompShg</td>\n",
       "      <td>VinylSd</td>\n",
       "      <td>VinylSd</td>\n",
       "      <td>BrkFace</td>\n",
       "      <td>162.0</td>\n",
       "      <td>Gd</td>\n",
       "      <td>TA</td>\n",
       "      <td>PConc</td>\n",
       "      <td>Gd</td>\n",
       "      <td>TA</td>\n",
       "      <td>Mn</td>\n",
       "      <td>GLQ</td>\n",
       "      <td>486</td>\n",
       "      <td>Unf</td>\n",
       "      <td>0</td>\n",
       "      <td>434</td>\n",
       "      <td>920</td>\n",
       "      <td>GasA</td>\n",
       "      <td>Ex</td>\n",
       "      <td>Y</td>\n",
       "      <td>SBrkr</td>\n",
       "      <td>920</td>\n",
       "      <td>866</td>\n",
       "      <td>0</td>\n",
       "      <td>1786</td>\n",
       "      <td>1</td>\n",
       "      <td>0</td>\n",
       "      <td>2</td>\n",
       "      <td>1</td>\n",
       "      <td>3</td>\n",
       "      <td>1</td>\n",
       "      <td>Gd</td>\n",
       "      <td>6</td>\n",
       "      <td>Typ</td>\n",
       "      <td>1</td>\n",
       "      <td>TA</td>\n",
       "      <td>Attchd</td>\n",
       "      <td>2001.0</td>\n",
       "      <td>RFn</td>\n",
       "      <td>2</td>\n",
       "      <td>608</td>\n",
       "      <td>TA</td>\n",
       "      <td>TA</td>\n",
       "      <td>Y</td>\n",
       "      <td>0</td>\n",
       "      <td>42</td>\n",
       "      <td>0</td>\n",
       "      <td>0</td>\n",
       "      <td>0</td>\n",
       "      <td>0</td>\n",
       "      <td>NaN</td>\n",
       "      <td>NaN</td>\n",
       "      <td>NaN</td>\n",
       "      <td>0</td>\n",
       "      <td>9</td>\n",
       "      <td>2008</td>\n",
       "      <td>WD</td>\n",
       "      <td>Normal</td>\n",
       "      <td>223500</td>\n",
       "    </tr>\n",
       "    <tr>\n",
       "      <th>3</th>\n",
       "      <td>4</td>\n",
       "      <td>70</td>\n",
       "      <td>RL</td>\n",
       "      <td>60.0</td>\n",
       "      <td>9550</td>\n",
       "      <td>Pave</td>\n",
       "      <td>NaN</td>\n",
       "      <td>IR1</td>\n",
       "      <td>Lvl</td>\n",
       "      <td>AllPub</td>\n",
       "      <td>Corner</td>\n",
       "      <td>Gtl</td>\n",
       "      <td>Crawfor</td>\n",
       "      <td>Norm</td>\n",
       "      <td>Norm</td>\n",
       "      <td>1Fam</td>\n",
       "      <td>2Story</td>\n",
       "      <td>7</td>\n",
       "      <td>5</td>\n",
       "      <td>1915</td>\n",
       "      <td>1970</td>\n",
       "      <td>Gable</td>\n",
       "      <td>CompShg</td>\n",
       "      <td>Wd Sdng</td>\n",
       "      <td>Wd Shng</td>\n",
       "      <td>None</td>\n",
       "      <td>0.0</td>\n",
       "      <td>TA</td>\n",
       "      <td>TA</td>\n",
       "      <td>BrkTil</td>\n",
       "      <td>TA</td>\n",
       "      <td>Gd</td>\n",
       "      <td>No</td>\n",
       "      <td>ALQ</td>\n",
       "      <td>216</td>\n",
       "      <td>Unf</td>\n",
       "      <td>0</td>\n",
       "      <td>540</td>\n",
       "      <td>756</td>\n",
       "      <td>GasA</td>\n",
       "      <td>Gd</td>\n",
       "      <td>Y</td>\n",
       "      <td>SBrkr</td>\n",
       "      <td>961</td>\n",
       "      <td>756</td>\n",
       "      <td>0</td>\n",
       "      <td>1717</td>\n",
       "      <td>1</td>\n",
       "      <td>0</td>\n",
       "      <td>1</td>\n",
       "      <td>0</td>\n",
       "      <td>3</td>\n",
       "      <td>1</td>\n",
       "      <td>Gd</td>\n",
       "      <td>7</td>\n",
       "      <td>Typ</td>\n",
       "      <td>1</td>\n",
       "      <td>Gd</td>\n",
       "      <td>Detchd</td>\n",
       "      <td>1998.0</td>\n",
       "      <td>Unf</td>\n",
       "      <td>3</td>\n",
       "      <td>642</td>\n",
       "      <td>TA</td>\n",
       "      <td>TA</td>\n",
       "      <td>Y</td>\n",
       "      <td>0</td>\n",
       "      <td>35</td>\n",
       "      <td>272</td>\n",
       "      <td>0</td>\n",
       "      <td>0</td>\n",
       "      <td>0</td>\n",
       "      <td>NaN</td>\n",
       "      <td>NaN</td>\n",
       "      <td>NaN</td>\n",
       "      <td>0</td>\n",
       "      <td>2</td>\n",
       "      <td>2006</td>\n",
       "      <td>WD</td>\n",
       "      <td>Abnorml</td>\n",
       "      <td>140000</td>\n",
       "    </tr>\n",
       "    <tr>\n",
       "      <th>4</th>\n",
       "      <td>5</td>\n",
       "      <td>60</td>\n",
       "      <td>RL</td>\n",
       "      <td>84.0</td>\n",
       "      <td>14260</td>\n",
       "      <td>Pave</td>\n",
       "      <td>NaN</td>\n",
       "      <td>IR1</td>\n",
       "      <td>Lvl</td>\n",
       "      <td>AllPub</td>\n",
       "      <td>FR2</td>\n",
       "      <td>Gtl</td>\n",
       "      <td>NoRidge</td>\n",
       "      <td>Norm</td>\n",
       "      <td>Norm</td>\n",
       "      <td>1Fam</td>\n",
       "      <td>2Story</td>\n",
       "      <td>8</td>\n",
       "      <td>5</td>\n",
       "      <td>2000</td>\n",
       "      <td>2000</td>\n",
       "      <td>Gable</td>\n",
       "      <td>CompShg</td>\n",
       "      <td>VinylSd</td>\n",
       "      <td>VinylSd</td>\n",
       "      <td>BrkFace</td>\n",
       "      <td>350.0</td>\n",
       "      <td>Gd</td>\n",
       "      <td>TA</td>\n",
       "      <td>PConc</td>\n",
       "      <td>Gd</td>\n",
       "      <td>TA</td>\n",
       "      <td>Av</td>\n",
       "      <td>GLQ</td>\n",
       "      <td>655</td>\n",
       "      <td>Unf</td>\n",
       "      <td>0</td>\n",
       "      <td>490</td>\n",
       "      <td>1145</td>\n",
       "      <td>GasA</td>\n",
       "      <td>Ex</td>\n",
       "      <td>Y</td>\n",
       "      <td>SBrkr</td>\n",
       "      <td>1145</td>\n",
       "      <td>1053</td>\n",
       "      <td>0</td>\n",
       "      <td>2198</td>\n",
       "      <td>1</td>\n",
       "      <td>0</td>\n",
       "      <td>2</td>\n",
       "      <td>1</td>\n",
       "      <td>4</td>\n",
       "      <td>1</td>\n",
       "      <td>Gd</td>\n",
       "      <td>9</td>\n",
       "      <td>Typ</td>\n",
       "      <td>1</td>\n",
       "      <td>TA</td>\n",
       "      <td>Attchd</td>\n",
       "      <td>2000.0</td>\n",
       "      <td>RFn</td>\n",
       "      <td>3</td>\n",
       "      <td>836</td>\n",
       "      <td>TA</td>\n",
       "      <td>TA</td>\n",
       "      <td>Y</td>\n",
       "      <td>192</td>\n",
       "      <td>84</td>\n",
       "      <td>0</td>\n",
       "      <td>0</td>\n",
       "      <td>0</td>\n",
       "      <td>0</td>\n",
       "      <td>NaN</td>\n",
       "      <td>NaN</td>\n",
       "      <td>NaN</td>\n",
       "      <td>0</td>\n",
       "      <td>12</td>\n",
       "      <td>2008</td>\n",
       "      <td>WD</td>\n",
       "      <td>Normal</td>\n",
       "      <td>250000</td>\n",
       "    </tr>\n",
       "  </tbody>\n",
       "</table>\n",
       "</div>"
      ],
      "text/plain": [
       "   Id  MSSubClass MSZoning  LotFrontage  LotArea Street Alley LotShape  \\\n",
       "0   1          60       RL         65.0     8450   Pave   NaN      Reg   \n",
       "1   2          20       RL         80.0     9600   Pave   NaN      Reg   \n",
       "2   3          60       RL         68.0    11250   Pave   NaN      IR1   \n",
       "3   4          70       RL         60.0     9550   Pave   NaN      IR1   \n",
       "4   5          60       RL         84.0    14260   Pave   NaN      IR1   \n",
       "\n",
       "  LandContour Utilities LotConfig LandSlope Neighborhood Condition1  \\\n",
       "0         Lvl    AllPub    Inside       Gtl      CollgCr       Norm   \n",
       "1         Lvl    AllPub       FR2       Gtl      Veenker      Feedr   \n",
       "2         Lvl    AllPub    Inside       Gtl      CollgCr       Norm   \n",
       "3         Lvl    AllPub    Corner       Gtl      Crawfor       Norm   \n",
       "4         Lvl    AllPub       FR2       Gtl      NoRidge       Norm   \n",
       "\n",
       "  Condition2 BldgType HouseStyle  OverallQual  OverallCond  YearBuilt  \\\n",
       "0       Norm     1Fam     2Story            7            5       2003   \n",
       "1       Norm     1Fam     1Story            6            8       1976   \n",
       "2       Norm     1Fam     2Story            7            5       2001   \n",
       "3       Norm     1Fam     2Story            7            5       1915   \n",
       "4       Norm     1Fam     2Story            8            5       2000   \n",
       "\n",
       "   YearRemodAdd RoofStyle RoofMatl Exterior1st Exterior2nd MasVnrType  \\\n",
       "0          2003     Gable  CompShg     VinylSd     VinylSd    BrkFace   \n",
       "1          1976     Gable  CompShg     MetalSd     MetalSd       None   \n",
       "2          2002     Gable  CompShg     VinylSd     VinylSd    BrkFace   \n",
       "3          1970     Gable  CompShg     Wd Sdng     Wd Shng       None   \n",
       "4          2000     Gable  CompShg     VinylSd     VinylSd    BrkFace   \n",
       "\n",
       "   MasVnrArea ExterQual ExterCond Foundation BsmtQual BsmtCond BsmtExposure  \\\n",
       "0       196.0        Gd        TA      PConc       Gd       TA           No   \n",
       "1         0.0        TA        TA     CBlock       Gd       TA           Gd   \n",
       "2       162.0        Gd        TA      PConc       Gd       TA           Mn   \n",
       "3         0.0        TA        TA     BrkTil       TA       Gd           No   \n",
       "4       350.0        Gd        TA      PConc       Gd       TA           Av   \n",
       "\n",
       "  BsmtFinType1  BsmtFinSF1 BsmtFinType2  BsmtFinSF2  BsmtUnfSF  TotalBsmtSF  \\\n",
       "0          GLQ         706          Unf           0        150          856   \n",
       "1          ALQ         978          Unf           0        284         1262   \n",
       "2          GLQ         486          Unf           0        434          920   \n",
       "3          ALQ         216          Unf           0        540          756   \n",
       "4          GLQ         655          Unf           0        490         1145   \n",
       "\n",
       "  Heating HeatingQC CentralAir Electrical  1stFlrSF  2ndFlrSF  LowQualFinSF  \\\n",
       "0    GasA        Ex          Y      SBrkr       856       854             0   \n",
       "1    GasA        Ex          Y      SBrkr      1262         0             0   \n",
       "2    GasA        Ex          Y      SBrkr       920       866             0   \n",
       "3    GasA        Gd          Y      SBrkr       961       756             0   \n",
       "4    GasA        Ex          Y      SBrkr      1145      1053             0   \n",
       "\n",
       "   GrLivArea  BsmtFullBath  BsmtHalfBath  FullBath  HalfBath  BedroomAbvGr  \\\n",
       "0       1710             1             0         2         1             3   \n",
       "1       1262             0             1         2         0             3   \n",
       "2       1786             1             0         2         1             3   \n",
       "3       1717             1             0         1         0             3   \n",
       "4       2198             1             0         2         1             4   \n",
       "\n",
       "   KitchenAbvGr KitchenQual  TotRmsAbvGrd Functional  Fireplaces FireplaceQu  \\\n",
       "0             1          Gd             8        Typ           0         NaN   \n",
       "1             1          TA             6        Typ           1          TA   \n",
       "2             1          Gd             6        Typ           1          TA   \n",
       "3             1          Gd             7        Typ           1          Gd   \n",
       "4             1          Gd             9        Typ           1          TA   \n",
       "\n",
       "  GarageType  GarageYrBlt GarageFinish  GarageCars  GarageArea GarageQual  \\\n",
       "0     Attchd       2003.0          RFn           2         548         TA   \n",
       "1     Attchd       1976.0          RFn           2         460         TA   \n",
       "2     Attchd       2001.0          RFn           2         608         TA   \n",
       "3     Detchd       1998.0          Unf           3         642         TA   \n",
       "4     Attchd       2000.0          RFn           3         836         TA   \n",
       "\n",
       "  GarageCond PavedDrive  WoodDeckSF  OpenPorchSF  EnclosedPorch  3SsnPorch  \\\n",
       "0         TA          Y           0           61              0          0   \n",
       "1         TA          Y         298            0              0          0   \n",
       "2         TA          Y           0           42              0          0   \n",
       "3         TA          Y           0           35            272          0   \n",
       "4         TA          Y         192           84              0          0   \n",
       "\n",
       "   ScreenPorch  PoolArea PoolQC Fence MiscFeature  MiscVal  MoSold  YrSold  \\\n",
       "0            0         0    NaN   NaN         NaN        0       2    2008   \n",
       "1            0         0    NaN   NaN         NaN        0       5    2007   \n",
       "2            0         0    NaN   NaN         NaN        0       9    2008   \n",
       "3            0         0    NaN   NaN         NaN        0       2    2006   \n",
       "4            0         0    NaN   NaN         NaN        0      12    2008   \n",
       "\n",
       "  SaleType SaleCondition  SalePrice  \n",
       "0       WD        Normal     208500  \n",
       "1       WD        Normal     181500  \n",
       "2       WD        Normal     223500  \n",
       "3       WD       Abnorml     140000  \n",
       "4       WD        Normal     250000  "
      ]
     },
     "execution_count": 5,
     "metadata": {},
     "output_type": "execute_result"
    }
   ],
   "source": [
    "train0.head()"
   ]
  },
  {
   "cell_type": "markdown",
   "metadata": {},
   "source": [
    "## Data Cleaning"
   ]
  },
  {
   "cell_type": "markdown",
   "metadata": {},
   "source": [
    "#### Combining train and test sets"
   ]
  },
  {
   "cell_type": "code",
   "execution_count": 6,
   "metadata": {},
   "outputs": [],
   "source": [
    "train1=train0.drop(['Id','SalePrice'],axis=1)\n",
    "test1=test0.drop(['Id'],axis=1)\n",
    "data1=pd.concat([train1,test1],axis=0)"
   ]
  },
  {
   "cell_type": "markdown",
   "metadata": {},
   "source": [
    "#### Filling null values"
   ]
  },
  {
   "cell_type": "markdown",
   "metadata": {},
   "source": [
    "Number of null values"
   ]
  },
  {
   "cell_type": "code",
   "execution_count": 7,
   "metadata": {},
   "outputs": [
    {
     "data": {
      "text/plain": [
       "13965"
      ]
     },
     "execution_count": 7,
     "metadata": {},
     "output_type": "execute_result"
    }
   ],
   "source": [
    "data1.isna().sum().sum()"
   ]
  },
  {
   "cell_type": "markdown",
   "metadata": {},
   "source": [
    "Columns where NAN has meaning"
   ]
  },
  {
   "cell_type": "code",
   "execution_count": 8,
   "metadata": {},
   "outputs": [],
   "source": [
    "data2=data1.copy()"
   ]
  },
  {
   "cell_type": "code",
   "execution_count": 9,
   "metadata": {},
   "outputs": [],
   "source": [
    "such_cols=['Alley','BsmtQual','BsmtCond','BsmtExposure','BsmtFinType1','BsmtFinType2','FireplaceQu',\n",
    "            'GarageType','GarageFinish','GarageQual','GarageCond','PoolQC','Fence','MiscFeature']"
   ]
  },
  {
   "cell_type": "code",
   "execution_count": 10,
   "metadata": {},
   "outputs": [],
   "source": [
    "for col in such_cols:\n",
    "    data2[col].fillna('None',inplace=True)"
   ]
  },
  {
   "cell_type": "markdown",
   "metadata": {},
   "source": [
    "Remaining categorical columns with null values"
   ]
  },
  {
   "cell_type": "code",
   "execution_count": 11,
   "metadata": {},
   "outputs": [
    {
     "data": {
      "text/plain": [
       "9"
      ]
     },
     "execution_count": 11,
     "metadata": {},
     "output_type": "execute_result"
    }
   ],
   "source": [
    "data2.select_dtypes(['O']).isna().any().sum()"
   ]
  },
  {
   "cell_type": "code",
   "execution_count": 12,
   "metadata": {},
   "outputs": [
    {
     "data": {
      "text/plain": [
       "MSZoning        4\n",
       "Utilities       2\n",
       "Exterior1st     1\n",
       "Exterior2nd     1\n",
       "MasVnrType     24\n",
       "Electrical      1\n",
       "KitchenQual     1\n",
       "Functional      2\n",
       "SaleType        1\n",
       "dtype: int64"
      ]
     },
     "execution_count": 12,
     "metadata": {},
     "output_type": "execute_result"
    }
   ],
   "source": [
    "data2.loc[:,data2.isna().any()].select_dtypes(['O']).isna().sum()"
   ]
  },
  {
   "cell_type": "code",
   "execution_count": 13,
   "metadata": {},
   "outputs": [],
   "source": [
    "data3=data2.copy()"
   ]
  },
  {
   "cell_type": "code",
   "execution_count": 14,
   "metadata": {},
   "outputs": [],
   "source": [
    "for col in data3.loc[:,data3.isna().any()].select_dtypes(['O']).columns:\n",
    "    data3[col].fillna(data3[col].mode()[0],inplace=True)"
   ]
  },
  {
   "cell_type": "code",
   "execution_count": 15,
   "metadata": {},
   "outputs": [
    {
     "data": {
      "text/plain": [
       "0"
      ]
     },
     "execution_count": 15,
     "metadata": {},
     "output_type": "execute_result"
    }
   ],
   "source": [
    "data3.select_dtypes(['O']).isna().any().sum()"
   ]
  },
  {
   "cell_type": "markdown",
   "metadata": {},
   "source": [
    "### Numeric null values"
   ]
  },
  {
   "cell_type": "code",
   "execution_count": 16,
   "metadata": {},
   "outputs": [],
   "source": [
    "data4=data3.copy()"
   ]
  },
  {
   "cell_type": "code",
   "execution_count": 17,
   "metadata": {},
   "outputs": [
    {
     "data": {
      "text/plain": [
       "678"
      ]
     },
     "execution_count": 17,
     "metadata": {},
     "output_type": "execute_result"
    }
   ],
   "source": [
    "data4.isna().sum().sum()"
   ]
  },
  {
   "cell_type": "code",
   "execution_count": 18,
   "metadata": {},
   "outputs": [
    {
     "data": {
      "text/plain": [
       "LotFrontage     486\n",
       "MasVnrArea       23\n",
       "BsmtFinSF1        1\n",
       "BsmtFinSF2        1\n",
       "BsmtUnfSF         1\n",
       "TotalBsmtSF       1\n",
       "BsmtFullBath      2\n",
       "BsmtHalfBath      2\n",
       "GarageYrBlt     159\n",
       "GarageCars        1\n",
       "GarageArea        1\n",
       "dtype: int64"
      ]
     },
     "execution_count": 18,
     "metadata": {},
     "output_type": "execute_result"
    }
   ],
   "source": [
    "data4.loc[:,data4.isna().any()].select_dtypes(exclude=['O']).isna().sum()"
   ]
  },
  {
   "cell_type": "markdown",
   "metadata": {},
   "source": [
    "GarageYrBlt has missing values when there is no garage"
   ]
  },
  {
   "cell_type": "markdown",
   "metadata": {},
   "source": [
    "So giving a value which might denote lower standard :min -10"
   ]
  },
  {
   "cell_type": "code",
   "execution_count": 19,
   "metadata": {},
   "outputs": [],
   "source": [
    "fillyr=data4.GarageYrBlt.min()\n",
    "data4.GarageYrBlt.fillna(fillyr,inplace=True)"
   ]
  },
  {
   "cell_type": "markdown",
   "metadata": {},
   "source": [
    "Filling by mean for remaining numerical nulls"
   ]
  },
  {
   "cell_type": "code",
   "execution_count": 20,
   "metadata": {},
   "outputs": [],
   "source": [
    "for col in data4.loc[:,data4.isna().any()].columns:\n",
    "    data4[col].fillna(data4[col].mean(),inplace=True)"
   ]
  },
  {
   "cell_type": "code",
   "execution_count": 21,
   "metadata": {},
   "outputs": [
    {
     "data": {
      "text/plain": [
       "0"
      ]
     },
     "execution_count": 21,
     "metadata": {},
     "output_type": "execute_result"
    }
   ],
   "source": [
    "data4.isna().sum().sum()"
   ]
  },
  {
   "cell_type": "markdown",
   "metadata": {},
   "source": [
    "## Feature Transformation"
   ]
  },
  {
   "cell_type": "code",
   "execution_count": 23,
   "metadata": {},
   "outputs": [],
   "source": [
    "data5=data4.copy()"
   ]
  },
  {
   "cell_type": "markdown",
   "metadata": {},
   "source": [
    "Check for negatives before log1p transformation"
   ]
  },
  {
   "cell_type": "code",
   "execution_count": 24,
   "metadata": {},
   "outputs": [
    {
     "data": {
      "text/plain": [
       "0.0"
      ]
     },
     "execution_count": 24,
     "metadata": {},
     "output_type": "execute_result"
    }
   ],
   "source": [
    "data5.select_dtypes(exclude=['O']).min().min()"
   ]
  },
  {
   "cell_type": "code",
   "execution_count": 25,
   "metadata": {},
   "outputs": [],
   "source": [
    "for col in data5.select_dtypes(exclude=['O']).columns:\n",
    "    data5[col]=np.log1p(data5[col])"
   ]
  },
  {
   "cell_type": "markdown",
   "metadata": {},
   "source": [
    "## Feature Encoding"
   ]
  },
  {
   "cell_type": "code",
   "execution_count": 26,
   "metadata": {},
   "outputs": [],
   "source": [
    "data6=data5.copy()"
   ]
  },
  {
   "cell_type": "markdown",
   "metadata": {},
   "source": [
    "Changing the categorical cols into numericals"
   ]
  },
  {
   "cell_type": "code",
   "execution_count": 27,
   "metadata": {},
   "outputs": [],
   "source": [
    "data6=pd.get_dummies(data6)"
   ]
  },
  {
   "cell_type": "markdown",
   "metadata": {},
   "source": [
    "## Model Selection\n",
    "#### Splitting into train and test"
   ]
  },
  {
   "cell_type": "code",
   "execution_count": 28,
   "metadata": {},
   "outputs": [],
   "source": [
    "data7=data6.copy()"
   ]
  },
  {
   "cell_type": "code",
   "execution_count": 29,
   "metadata": {},
   "outputs": [
    {
     "data": {
      "text/plain": [
       "1460"
      ]
     },
     "execution_count": 29,
     "metadata": {},
     "output_type": "execute_result"
    }
   ],
   "source": [
    "len(train0)"
   ]
  },
  {
   "cell_type": "code",
   "execution_count": 30,
   "metadata": {},
   "outputs": [],
   "source": [
    "train7=data7.iloc[:len(train0),:]\n",
    "test7=data7.iloc[len(train0):,:]"
   ]
  },
  {
   "cell_type": "markdown",
   "metadata": {},
   "source": [
    "### Pycaret"
   ]
  },
  {
   "cell_type": "code",
   "execution_count": 31,
   "metadata": {},
   "outputs": [
    {
     "ename": "NameError",
     "evalue": "name 'log_y' is not defined",
     "output_type": "error",
     "traceback": [
      "\u001b[1;31m---------------------------------------------------------------------------\u001b[0m",
      "\u001b[1;31mNameError\u001b[0m                                 Traceback (most recent call last)",
      "\u001b[1;32m<ipython-input-31-5fc94a9d3b8f>\u001b[0m in \u001b[0;36m<module>\u001b[1;34m\u001b[0m\n\u001b[1;32m----> 1\u001b[1;33m \u001b[0mclf\u001b[0m\u001b[1;33m=\u001b[0m\u001b[0msetup\u001b[0m\u001b[1;33m(\u001b[0m\u001b[0mdata\u001b[0m\u001b[1;33m=\u001b[0m\u001b[0mpd\u001b[0m\u001b[1;33m.\u001b[0m\u001b[0mconcat\u001b[0m\u001b[1;33m(\u001b[0m\u001b[1;33m[\u001b[0m\u001b[0mtrain7\u001b[0m\u001b[1;33m,\u001b[0m\u001b[0mlog_y\u001b[0m\u001b[1;33m]\u001b[0m\u001b[1;33m,\u001b[0m\u001b[0maxis\u001b[0m\u001b[1;33m=\u001b[0m\u001b[1;36m1\u001b[0m\u001b[1;33m)\u001b[0m\u001b[1;33m,\u001b[0m\u001b[0mtarget\u001b[0m\u001b[1;33m=\u001b[0m\u001b[1;34m'SalePrice'\u001b[0m\u001b[1;33m,\u001b[0m\u001b[0mfold_shuffle\u001b[0m\u001b[1;33m=\u001b[0m\u001b[1;32mTrue\u001b[0m\u001b[1;33m)\u001b[0m\u001b[1;33m\u001b[0m\u001b[1;33m\u001b[0m\u001b[0m\n\u001b[0m",
      "\u001b[1;31mNameError\u001b[0m: name 'log_y' is not defined"
     ]
    }
   ],
   "source": [
    "clf=setup(data=pd.concat([train7,log_y],axis=1),target='SalePrice',fold_shuffle=True)"
   ]
  },
  {
   "cell_type": "code",
   "execution_count": null,
   "metadata": {
    "vscode": {
     "languageId": "markdown"
    }
   },
   "outputs": [
    {
     "data": {
      "text/html": [
       "<style  type=\"text/css\" >\n",
       "    #T_4045c970_283c_11ed_bb2b_d85de295b8e6 th {\n",
       "          text-align: left;\n",
       "    }#T_4045c970_283c_11ed_bb2b_d85de295b8e6row0_col0,#T_4045c970_283c_11ed_bb2b_d85de295b8e6row1_col0,#T_4045c970_283c_11ed_bb2b_d85de295b8e6row1_col1,#T_4045c970_283c_11ed_bb2b_d85de295b8e6row1_col2,#T_4045c970_283c_11ed_bb2b_d85de295b8e6row1_col3,#T_4045c970_283c_11ed_bb2b_d85de295b8e6row1_col4,#T_4045c970_283c_11ed_bb2b_d85de295b8e6row1_col5,#T_4045c970_283c_11ed_bb2b_d85de295b8e6row1_col6,#T_4045c970_283c_11ed_bb2b_d85de295b8e6row2_col0,#T_4045c970_283c_11ed_bb2b_d85de295b8e6row2_col1,#T_4045c970_283c_11ed_bb2b_d85de295b8e6row2_col2,#T_4045c970_283c_11ed_bb2b_d85de295b8e6row2_col3,#T_4045c970_283c_11ed_bb2b_d85de295b8e6row2_col4,#T_4045c970_283c_11ed_bb2b_d85de295b8e6row2_col5,#T_4045c970_283c_11ed_bb2b_d85de295b8e6row2_col6,#T_4045c970_283c_11ed_bb2b_d85de295b8e6row3_col0,#T_4045c970_283c_11ed_bb2b_d85de295b8e6row3_col1,#T_4045c970_283c_11ed_bb2b_d85de295b8e6row3_col2,#T_4045c970_283c_11ed_bb2b_d85de295b8e6row3_col3,#T_4045c970_283c_11ed_bb2b_d85de295b8e6row3_col4,#T_4045c970_283c_11ed_bb2b_d85de295b8e6row3_col5,#T_4045c970_283c_11ed_bb2b_d85de295b8e6row3_col6,#T_4045c970_283c_11ed_bb2b_d85de295b8e6row4_col0,#T_4045c970_283c_11ed_bb2b_d85de295b8e6row4_col1,#T_4045c970_283c_11ed_bb2b_d85de295b8e6row4_col2,#T_4045c970_283c_11ed_bb2b_d85de295b8e6row4_col3,#T_4045c970_283c_11ed_bb2b_d85de295b8e6row4_col4,#T_4045c970_283c_11ed_bb2b_d85de295b8e6row4_col5,#T_4045c970_283c_11ed_bb2b_d85de295b8e6row4_col6,#T_4045c970_283c_11ed_bb2b_d85de295b8e6row5_col0,#T_4045c970_283c_11ed_bb2b_d85de295b8e6row5_col1,#T_4045c970_283c_11ed_bb2b_d85de295b8e6row5_col2,#T_4045c970_283c_11ed_bb2b_d85de295b8e6row5_col3,#T_4045c970_283c_11ed_bb2b_d85de295b8e6row5_col4,#T_4045c970_283c_11ed_bb2b_d85de295b8e6row5_col5,#T_4045c970_283c_11ed_bb2b_d85de295b8e6row5_col6,#T_4045c970_283c_11ed_bb2b_d85de295b8e6row6_col0,#T_4045c970_283c_11ed_bb2b_d85de295b8e6row6_col1,#T_4045c970_283c_11ed_bb2b_d85de295b8e6row6_col2,#T_4045c970_283c_11ed_bb2b_d85de295b8e6row6_col3,#T_4045c970_283c_11ed_bb2b_d85de295b8e6row6_col4,#T_4045c970_283c_11ed_bb2b_d85de295b8e6row6_col5,#T_4045c970_283c_11ed_bb2b_d85de295b8e6row6_col6,#T_4045c970_283c_11ed_bb2b_d85de295b8e6row7_col0,#T_4045c970_283c_11ed_bb2b_d85de295b8e6row7_col1,#T_4045c970_283c_11ed_bb2b_d85de295b8e6row7_col2,#T_4045c970_283c_11ed_bb2b_d85de295b8e6row7_col3,#T_4045c970_283c_11ed_bb2b_d85de295b8e6row7_col4,#T_4045c970_283c_11ed_bb2b_d85de295b8e6row7_col5,#T_4045c970_283c_11ed_bb2b_d85de295b8e6row7_col6,#T_4045c970_283c_11ed_bb2b_d85de295b8e6row8_col0,#T_4045c970_283c_11ed_bb2b_d85de295b8e6row8_col1,#T_4045c970_283c_11ed_bb2b_d85de295b8e6row8_col2,#T_4045c970_283c_11ed_bb2b_d85de295b8e6row8_col3,#T_4045c970_283c_11ed_bb2b_d85de295b8e6row8_col4,#T_4045c970_283c_11ed_bb2b_d85de295b8e6row8_col5,#T_4045c970_283c_11ed_bb2b_d85de295b8e6row8_col6,#T_4045c970_283c_11ed_bb2b_d85de295b8e6row9_col0,#T_4045c970_283c_11ed_bb2b_d85de295b8e6row9_col1,#T_4045c970_283c_11ed_bb2b_d85de295b8e6row9_col2,#T_4045c970_283c_11ed_bb2b_d85de295b8e6row9_col3,#T_4045c970_283c_11ed_bb2b_d85de295b8e6row9_col4,#T_4045c970_283c_11ed_bb2b_d85de295b8e6row9_col5,#T_4045c970_283c_11ed_bb2b_d85de295b8e6row9_col6,#T_4045c970_283c_11ed_bb2b_d85de295b8e6row10_col0,#T_4045c970_283c_11ed_bb2b_d85de295b8e6row10_col1,#T_4045c970_283c_11ed_bb2b_d85de295b8e6row10_col2,#T_4045c970_283c_11ed_bb2b_d85de295b8e6row10_col3,#T_4045c970_283c_11ed_bb2b_d85de295b8e6row10_col4,#T_4045c970_283c_11ed_bb2b_d85de295b8e6row10_col5,#T_4045c970_283c_11ed_bb2b_d85de295b8e6row10_col6,#T_4045c970_283c_11ed_bb2b_d85de295b8e6row11_col0,#T_4045c970_283c_11ed_bb2b_d85de295b8e6row11_col1,#T_4045c970_283c_11ed_bb2b_d85de295b8e6row11_col2,#T_4045c970_283c_11ed_bb2b_d85de295b8e6row11_col3,#T_4045c970_283c_11ed_bb2b_d85de295b8e6row11_col4,#T_4045c970_283c_11ed_bb2b_d85de295b8e6row11_col5,#T_4045c970_283c_11ed_bb2b_d85de295b8e6row11_col6,#T_4045c970_283c_11ed_bb2b_d85de295b8e6row12_col0,#T_4045c970_283c_11ed_bb2b_d85de295b8e6row12_col1,#T_4045c970_283c_11ed_bb2b_d85de295b8e6row12_col2,#T_4045c970_283c_11ed_bb2b_d85de295b8e6row12_col3,#T_4045c970_283c_11ed_bb2b_d85de295b8e6row12_col4,#T_4045c970_283c_11ed_bb2b_d85de295b8e6row12_col5,#T_4045c970_283c_11ed_bb2b_d85de295b8e6row12_col6,#T_4045c970_283c_11ed_bb2b_d85de295b8e6row13_col0,#T_4045c970_283c_11ed_bb2b_d85de295b8e6row13_col1,#T_4045c970_283c_11ed_bb2b_d85de295b8e6row13_col2,#T_4045c970_283c_11ed_bb2b_d85de295b8e6row13_col3,#T_4045c970_283c_11ed_bb2b_d85de295b8e6row13_col4,#T_4045c970_283c_11ed_bb2b_d85de295b8e6row13_col5,#T_4045c970_283c_11ed_bb2b_d85de295b8e6row13_col6,#T_4045c970_283c_11ed_bb2b_d85de295b8e6row14_col0,#T_4045c970_283c_11ed_bb2b_d85de295b8e6row14_col1,#T_4045c970_283c_11ed_bb2b_d85de295b8e6row14_col2,#T_4045c970_283c_11ed_bb2b_d85de295b8e6row14_col3,#T_4045c970_283c_11ed_bb2b_d85de295b8e6row14_col4,#T_4045c970_283c_11ed_bb2b_d85de295b8e6row14_col5,#T_4045c970_283c_11ed_bb2b_d85de295b8e6row14_col6,#T_4045c970_283c_11ed_bb2b_d85de295b8e6row15_col0,#T_4045c970_283c_11ed_bb2b_d85de295b8e6row15_col1,#T_4045c970_283c_11ed_bb2b_d85de295b8e6row15_col2,#T_4045c970_283c_11ed_bb2b_d85de295b8e6row15_col3,#T_4045c970_283c_11ed_bb2b_d85de295b8e6row15_col4,#T_4045c970_283c_11ed_bb2b_d85de295b8e6row15_col5,#T_4045c970_283c_11ed_bb2b_d85de295b8e6row15_col6,#T_4045c970_283c_11ed_bb2b_d85de295b8e6row16_col0,#T_4045c970_283c_11ed_bb2b_d85de295b8e6row16_col1,#T_4045c970_283c_11ed_bb2b_d85de295b8e6row16_col2,#T_4045c970_283c_11ed_bb2b_d85de295b8e6row16_col3,#T_4045c970_283c_11ed_bb2b_d85de295b8e6row16_col4,#T_4045c970_283c_11ed_bb2b_d85de295b8e6row16_col5,#T_4045c970_283c_11ed_bb2b_d85de295b8e6row16_col6,#T_4045c970_283c_11ed_bb2b_d85de295b8e6row17_col0,#T_4045c970_283c_11ed_bb2b_d85de295b8e6row17_col1,#T_4045c970_283c_11ed_bb2b_d85de295b8e6row17_col2,#T_4045c970_283c_11ed_bb2b_d85de295b8e6row17_col3,#T_4045c970_283c_11ed_bb2b_d85de295b8e6row17_col4,#T_4045c970_283c_11ed_bb2b_d85de295b8e6row17_col5,#T_4045c970_283c_11ed_bb2b_d85de295b8e6row17_col6,#T_4045c970_283c_11ed_bb2b_d85de295b8e6row18_col0,#T_4045c970_283c_11ed_bb2b_d85de295b8e6row18_col1,#T_4045c970_283c_11ed_bb2b_d85de295b8e6row18_col2,#T_4045c970_283c_11ed_bb2b_d85de295b8e6row18_col3,#T_4045c970_283c_11ed_bb2b_d85de295b8e6row18_col4,#T_4045c970_283c_11ed_bb2b_d85de295b8e6row18_col5,#T_4045c970_283c_11ed_bb2b_d85de295b8e6row18_col6,#T_4045c970_283c_11ed_bb2b_d85de295b8e6row19_col0,#T_4045c970_283c_11ed_bb2b_d85de295b8e6row19_col1,#T_4045c970_283c_11ed_bb2b_d85de295b8e6row19_col2,#T_4045c970_283c_11ed_bb2b_d85de295b8e6row19_col3,#T_4045c970_283c_11ed_bb2b_d85de295b8e6row19_col4,#T_4045c970_283c_11ed_bb2b_d85de295b8e6row19_col5,#T_4045c970_283c_11ed_bb2b_d85de295b8e6row19_col6{\n",
       "            text-align:  left;\n",
       "            text-align:  left;\n",
       "        }#T_4045c970_283c_11ed_bb2b_d85de295b8e6row0_col1,#T_4045c970_283c_11ed_bb2b_d85de295b8e6row0_col2,#T_4045c970_283c_11ed_bb2b_d85de295b8e6row0_col3,#T_4045c970_283c_11ed_bb2b_d85de295b8e6row0_col4,#T_4045c970_283c_11ed_bb2b_d85de295b8e6row0_col5,#T_4045c970_283c_11ed_bb2b_d85de295b8e6row0_col6{\n",
       "            text-align:  left;\n",
       "            text-align:  left;\n",
       "            background-color:  yellow;\n",
       "        }#T_4045c970_283c_11ed_bb2b_d85de295b8e6row0_col7,#T_4045c970_283c_11ed_bb2b_d85de295b8e6row1_col7,#T_4045c970_283c_11ed_bb2b_d85de295b8e6row2_col7,#T_4045c970_283c_11ed_bb2b_d85de295b8e6row3_col7,#T_4045c970_283c_11ed_bb2b_d85de295b8e6row4_col7,#T_4045c970_283c_11ed_bb2b_d85de295b8e6row5_col7,#T_4045c970_283c_11ed_bb2b_d85de295b8e6row6_col7,#T_4045c970_283c_11ed_bb2b_d85de295b8e6row7_col7,#T_4045c970_283c_11ed_bb2b_d85de295b8e6row8_col7,#T_4045c970_283c_11ed_bb2b_d85de295b8e6row9_col7,#T_4045c970_283c_11ed_bb2b_d85de295b8e6row10_col7,#T_4045c970_283c_11ed_bb2b_d85de295b8e6row11_col7,#T_4045c970_283c_11ed_bb2b_d85de295b8e6row12_col7,#T_4045c970_283c_11ed_bb2b_d85de295b8e6row13_col7,#T_4045c970_283c_11ed_bb2b_d85de295b8e6row14_col7,#T_4045c970_283c_11ed_bb2b_d85de295b8e6row15_col7,#T_4045c970_283c_11ed_bb2b_d85de295b8e6row16_col7,#T_4045c970_283c_11ed_bb2b_d85de295b8e6row17_col7,#T_4045c970_283c_11ed_bb2b_d85de295b8e6row19_col7{\n",
       "            text-align:  left;\n",
       "            text-align:  left;\n",
       "            background-color:  lightgrey;\n",
       "        }#T_4045c970_283c_11ed_bb2b_d85de295b8e6row18_col7{\n",
       "            text-align:  left;\n",
       "            text-align:  left;\n",
       "            background-color:  yellow;\n",
       "            background-color:  lightgrey;\n",
       "        }</style><table id=\"T_4045c970_283c_11ed_bb2b_d85de295b8e6\" ><thead>    <tr>        <th class=\"blank level0\" ></th>        <th class=\"col_heading level0 col0\" >Model</th>        <th class=\"col_heading level0 col1\" >MAE</th>        <th class=\"col_heading level0 col2\" >MSE</th>        <th class=\"col_heading level0 col3\" >RMSE</th>        <th class=\"col_heading level0 col4\" >R2</th>        <th class=\"col_heading level0 col5\" >RMSLE</th>        <th class=\"col_heading level0 col6\" >MAPE</th>        <th class=\"col_heading level0 col7\" >TT (Sec)</th>    </tr></thead><tbody>\n",
       "                <tr>\n",
       "                        <th id=\"T_4045c970_283c_11ed_bb2b_d85de295b8e6level0_row0\" class=\"row_heading level0 row0\" >catboost</th>\n",
       "                        <td id=\"T_4045c970_283c_11ed_bb2b_d85de295b8e6row0_col0\" class=\"data row0 col0\" >CatBoost Regressor</td>\n",
       "                        <td id=\"T_4045c970_283c_11ed_bb2b_d85de295b8e6row0_col1\" class=\"data row0 col1\" >0.0830</td>\n",
       "                        <td id=\"T_4045c970_283c_11ed_bb2b_d85de295b8e6row0_col2\" class=\"data row0 col2\" >0.0161</td>\n",
       "                        <td id=\"T_4045c970_283c_11ed_bb2b_d85de295b8e6row0_col3\" class=\"data row0 col3\" >0.1246</td>\n",
       "                        <td id=\"T_4045c970_283c_11ed_bb2b_d85de295b8e6row0_col4\" class=\"data row0 col4\" >0.8994</td>\n",
       "                        <td id=\"T_4045c970_283c_11ed_bb2b_d85de295b8e6row0_col5\" class=\"data row0 col5\" >0.0096</td>\n",
       "                        <td id=\"T_4045c970_283c_11ed_bb2b_d85de295b8e6row0_col6\" class=\"data row0 col6\" >0.0069</td>\n",
       "                        <td id=\"T_4045c970_283c_11ed_bb2b_d85de295b8e6row0_col7\" class=\"data row0 col7\" >5.9350</td>\n",
       "            </tr>\n",
       "            <tr>\n",
       "                        <th id=\"T_4045c970_283c_11ed_bb2b_d85de295b8e6level0_row1\" class=\"row_heading level0 row1\" >gbr</th>\n",
       "                        <td id=\"T_4045c970_283c_11ed_bb2b_d85de295b8e6row1_col0\" class=\"data row1 col0\" >Gradient Boosting Regressor</td>\n",
       "                        <td id=\"T_4045c970_283c_11ed_bb2b_d85de295b8e6row1_col1\" class=\"data row1 col1\" >0.0908</td>\n",
       "                        <td id=\"T_4045c970_283c_11ed_bb2b_d85de295b8e6row1_col2\" class=\"data row1 col2\" >0.0187</td>\n",
       "                        <td id=\"T_4045c970_283c_11ed_bb2b_d85de295b8e6row1_col3\" class=\"data row1 col3\" >0.1351</td>\n",
       "                        <td id=\"T_4045c970_283c_11ed_bb2b_d85de295b8e6row1_col4\" class=\"data row1 col4\" >0.8824</td>\n",
       "                        <td id=\"T_4045c970_283c_11ed_bb2b_d85de295b8e6row1_col5\" class=\"data row1 col5\" >0.0104</td>\n",
       "                        <td id=\"T_4045c970_283c_11ed_bb2b_d85de295b8e6row1_col6\" class=\"data row1 col6\" >0.0076</td>\n",
       "                        <td id=\"T_4045c970_283c_11ed_bb2b_d85de295b8e6row1_col7\" class=\"data row1 col7\" >0.3160</td>\n",
       "            </tr>\n",
       "            <tr>\n",
       "                        <th id=\"T_4045c970_283c_11ed_bb2b_d85de295b8e6level0_row2\" class=\"row_heading level0 row2\" >lightgbm</th>\n",
       "                        <td id=\"T_4045c970_283c_11ed_bb2b_d85de295b8e6row2_col0\" class=\"data row2 col0\" >Light Gradient Boosting Machine</td>\n",
       "                        <td id=\"T_4045c970_283c_11ed_bb2b_d85de295b8e6row2_col1\" class=\"data row2 col1\" >0.0925</td>\n",
       "                        <td id=\"T_4045c970_283c_11ed_bb2b_d85de295b8e6row2_col2\" class=\"data row2 col2\" >0.0187</td>\n",
       "                        <td id=\"T_4045c970_283c_11ed_bb2b_d85de295b8e6row2_col3\" class=\"data row2 col3\" >0.1355</td>\n",
       "                        <td id=\"T_4045c970_283c_11ed_bb2b_d85de295b8e6row2_col4\" class=\"data row2 col4\" >0.8819</td>\n",
       "                        <td id=\"T_4045c970_283c_11ed_bb2b_d85de295b8e6row2_col5\" class=\"data row2 col5\" >0.0105</td>\n",
       "                        <td id=\"T_4045c970_283c_11ed_bb2b_d85de295b8e6row2_col6\" class=\"data row2 col6\" >0.0077</td>\n",
       "                        <td id=\"T_4045c970_283c_11ed_bb2b_d85de295b8e6row2_col7\" class=\"data row2 col7\" >0.2640</td>\n",
       "            </tr>\n",
       "            <tr>\n",
       "                        <th id=\"T_4045c970_283c_11ed_bb2b_d85de295b8e6level0_row3\" class=\"row_heading level0 row3\" >et</th>\n",
       "                        <td id=\"T_4045c970_283c_11ed_bb2b_d85de295b8e6row3_col0\" class=\"data row3 col0\" >Extra Trees Regressor</td>\n",
       "                        <td id=\"T_4045c970_283c_11ed_bb2b_d85de295b8e6row3_col1\" class=\"data row3 col1\" >0.0968</td>\n",
       "                        <td id=\"T_4045c970_283c_11ed_bb2b_d85de295b8e6row3_col2\" class=\"data row3 col2\" >0.0208</td>\n",
       "                        <td id=\"T_4045c970_283c_11ed_bb2b_d85de295b8e6row3_col3\" class=\"data row3 col3\" >0.1423</td>\n",
       "                        <td id=\"T_4045c970_283c_11ed_bb2b_d85de295b8e6row3_col4\" class=\"data row3 col4\" >0.8684</td>\n",
       "                        <td id=\"T_4045c970_283c_11ed_bb2b_d85de295b8e6row3_col5\" class=\"data row3 col5\" >0.0110</td>\n",
       "                        <td id=\"T_4045c970_283c_11ed_bb2b_d85de295b8e6row3_col6\" class=\"data row3 col6\" >0.0081</td>\n",
       "                        <td id=\"T_4045c970_283c_11ed_bb2b_d85de295b8e6row3_col7\" class=\"data row3 col7\" >0.9200</td>\n",
       "            </tr>\n",
       "            <tr>\n",
       "                        <th id=\"T_4045c970_283c_11ed_bb2b_d85de295b8e6level0_row4\" class=\"row_heading level0 row4\" >rf</th>\n",
       "                        <td id=\"T_4045c970_283c_11ed_bb2b_d85de295b8e6row4_col0\" class=\"data row4 col0\" >Random Forest Regressor</td>\n",
       "                        <td id=\"T_4045c970_283c_11ed_bb2b_d85de295b8e6row4_col1\" class=\"data row4 col1\" >0.0992</td>\n",
       "                        <td id=\"T_4045c970_283c_11ed_bb2b_d85de295b8e6row4_col2\" class=\"data row4 col2\" >0.0214</td>\n",
       "                        <td id=\"T_4045c970_283c_11ed_bb2b_d85de295b8e6row4_col3\" class=\"data row4 col3\" >0.1448</td>\n",
       "                        <td id=\"T_4045c970_283c_11ed_bb2b_d85de295b8e6row4_col4\" class=\"data row4 col4\" >0.8652</td>\n",
       "                        <td id=\"T_4045c970_283c_11ed_bb2b_d85de295b8e6row4_col5\" class=\"data row4 col5\" >0.0112</td>\n",
       "                        <td id=\"T_4045c970_283c_11ed_bb2b_d85de295b8e6row4_col6\" class=\"data row4 col6\" >0.0083</td>\n",
       "                        <td id=\"T_4045c970_283c_11ed_bb2b_d85de295b8e6row4_col7\" class=\"data row4 col7\" >1.0210</td>\n",
       "            </tr>\n",
       "            <tr>\n",
       "                        <th id=\"T_4045c970_283c_11ed_bb2b_d85de295b8e6level0_row5\" class=\"row_heading level0 row5\" >xgboost</th>\n",
       "                        <td id=\"T_4045c970_283c_11ed_bb2b_d85de295b8e6row5_col0\" class=\"data row5 col0\" >Extreme Gradient Boosting</td>\n",
       "                        <td id=\"T_4045c970_283c_11ed_bb2b_d85de295b8e6row5_col1\" class=\"data row5 col1\" >0.1028</td>\n",
       "                        <td id=\"T_4045c970_283c_11ed_bb2b_d85de295b8e6row5_col2\" class=\"data row5 col2\" >0.0228</td>\n",
       "                        <td id=\"T_4045c970_283c_11ed_bb2b_d85de295b8e6row5_col3\" class=\"data row5 col3\" >0.1498</td>\n",
       "                        <td id=\"T_4045c970_283c_11ed_bb2b_d85de295b8e6row5_col4\" class=\"data row5 col4\" >0.8554</td>\n",
       "                        <td id=\"T_4045c970_283c_11ed_bb2b_d85de295b8e6row5_col5\" class=\"data row5 col5\" >0.0116</td>\n",
       "                        <td id=\"T_4045c970_283c_11ed_bb2b_d85de295b8e6row5_col6\" class=\"data row5 col6\" >0.0086</td>\n",
       "                        <td id=\"T_4045c970_283c_11ed_bb2b_d85de295b8e6row5_col7\" class=\"data row5 col7\" >0.6240</td>\n",
       "            </tr>\n",
       "            <tr>\n",
       "                        <th id=\"T_4045c970_283c_11ed_bb2b_d85de295b8e6level0_row6\" class=\"row_heading level0 row6\" >br</th>\n",
       "                        <td id=\"T_4045c970_283c_11ed_bb2b_d85de295b8e6row6_col0\" class=\"data row6 col0\" >Bayesian Ridge</td>\n",
       "                        <td id=\"T_4045c970_283c_11ed_bb2b_d85de295b8e6row6_col1\" class=\"data row6 col1\" >0.0998</td>\n",
       "                        <td id=\"T_4045c970_283c_11ed_bb2b_d85de295b8e6row6_col2\" class=\"data row6 col2\" >0.0245</td>\n",
       "                        <td id=\"T_4045c970_283c_11ed_bb2b_d85de295b8e6row6_col3\" class=\"data row6 col3\" >0.1506</td>\n",
       "                        <td id=\"T_4045c970_283c_11ed_bb2b_d85de295b8e6row6_col4\" class=\"data row6 col4\" >0.8497</td>\n",
       "                        <td id=\"T_4045c970_283c_11ed_bb2b_d85de295b8e6row6_col5\" class=\"data row6 col5\" >0.0115</td>\n",
       "                        <td id=\"T_4045c970_283c_11ed_bb2b_d85de295b8e6row6_col6\" class=\"data row6 col6\" >0.0083</td>\n",
       "                        <td id=\"T_4045c970_283c_11ed_bb2b_d85de295b8e6row6_col7\" class=\"data row6 col7\" >0.0390</td>\n",
       "            </tr>\n",
       "            <tr>\n",
       "                        <th id=\"T_4045c970_283c_11ed_bb2b_d85de295b8e6level0_row7\" class=\"row_heading level0 row7\" >ridge</th>\n",
       "                        <td id=\"T_4045c970_283c_11ed_bb2b_d85de295b8e6row7_col0\" class=\"data row7 col0\" >Ridge Regression</td>\n",
       "                        <td id=\"T_4045c970_283c_11ed_bb2b_d85de295b8e6row7_col1\" class=\"data row7 col1\" >0.1004</td>\n",
       "                        <td id=\"T_4045c970_283c_11ed_bb2b_d85de295b8e6row7_col2\" class=\"data row7 col2\" >0.0250</td>\n",
       "                        <td id=\"T_4045c970_283c_11ed_bb2b_d85de295b8e6row7_col3\" class=\"data row7 col3\" >0.1522</td>\n",
       "                        <td id=\"T_4045c970_283c_11ed_bb2b_d85de295b8e6row7_col4\" class=\"data row7 col4\" >0.8464</td>\n",
       "                        <td id=\"T_4045c970_283c_11ed_bb2b_d85de295b8e6row7_col5\" class=\"data row7 col5\" >0.0116</td>\n",
       "                        <td id=\"T_4045c970_283c_11ed_bb2b_d85de295b8e6row7_col6\" class=\"data row7 col6\" >0.0084</td>\n",
       "                        <td id=\"T_4045c970_283c_11ed_bb2b_d85de295b8e6row7_col7\" class=\"data row7 col7\" >0.0260</td>\n",
       "            </tr>\n",
       "            <tr>\n",
       "                        <th id=\"T_4045c970_283c_11ed_bb2b_d85de295b8e6level0_row8\" class=\"row_heading level0 row8\" >omp</th>\n",
       "                        <td id=\"T_4045c970_283c_11ed_bb2b_d85de295b8e6row8_col0\" class=\"data row8 col0\" >Orthogonal Matching Pursuit</td>\n",
       "                        <td id=\"T_4045c970_283c_11ed_bb2b_d85de295b8e6row8_col1\" class=\"data row8 col1\" >0.1052</td>\n",
       "                        <td id=\"T_4045c970_283c_11ed_bb2b_d85de295b8e6row8_col2\" class=\"data row8 col2\" >0.0269</td>\n",
       "                        <td id=\"T_4045c970_283c_11ed_bb2b_d85de295b8e6row8_col3\" class=\"data row8 col3\" >0.1580</td>\n",
       "                        <td id=\"T_4045c970_283c_11ed_bb2b_d85de295b8e6row8_col4\" class=\"data row8 col4\" >0.8354</td>\n",
       "                        <td id=\"T_4045c970_283c_11ed_bb2b_d85de295b8e6row8_col5\" class=\"data row8 col5\" >0.0121</td>\n",
       "                        <td id=\"T_4045c970_283c_11ed_bb2b_d85de295b8e6row8_col6\" class=\"data row8 col6\" >0.0088</td>\n",
       "                        <td id=\"T_4045c970_283c_11ed_bb2b_d85de295b8e6row8_col7\" class=\"data row8 col7\" >0.0290</td>\n",
       "            </tr>\n",
       "            <tr>\n",
       "                        <th id=\"T_4045c970_283c_11ed_bb2b_d85de295b8e6level0_row9\" class=\"row_heading level0 row9\" >lr</th>\n",
       "                        <td id=\"T_4045c970_283c_11ed_bb2b_d85de295b8e6row9_col0\" class=\"data row9 col0\" >Linear Regression</td>\n",
       "                        <td id=\"T_4045c970_283c_11ed_bb2b_d85de295b8e6row9_col1\" class=\"data row9 col1\" >0.1025</td>\n",
       "                        <td id=\"T_4045c970_283c_11ed_bb2b_d85de295b8e6row9_col2\" class=\"data row9 col2\" >0.0283</td>\n",
       "                        <td id=\"T_4045c970_283c_11ed_bb2b_d85de295b8e6row9_col3\" class=\"data row9 col3\" >0.1607</td>\n",
       "                        <td id=\"T_4045c970_283c_11ed_bb2b_d85de295b8e6row9_col4\" class=\"data row9 col4\" >0.8246</td>\n",
       "                        <td id=\"T_4045c970_283c_11ed_bb2b_d85de295b8e6row9_col5\" class=\"data row9 col5\" >0.0123</td>\n",
       "                        <td id=\"T_4045c970_283c_11ed_bb2b_d85de295b8e6row9_col6\" class=\"data row9 col6\" >0.0086</td>\n",
       "                        <td id=\"T_4045c970_283c_11ed_bb2b_d85de295b8e6row9_col7\" class=\"data row9 col7\" >1.1670</td>\n",
       "            </tr>\n",
       "            <tr>\n",
       "                        <th id=\"T_4045c970_283c_11ed_bb2b_d85de295b8e6level0_row10\" class=\"row_heading level0 row10\" >ada</th>\n",
       "                        <td id=\"T_4045c970_283c_11ed_bb2b_d85de295b8e6row10_col0\" class=\"data row10 col0\" >AdaBoost Regressor</td>\n",
       "                        <td id=\"T_4045c970_283c_11ed_bb2b_d85de295b8e6row10_col1\" class=\"data row10 col1\" >0.1271</td>\n",
       "                        <td id=\"T_4045c970_283c_11ed_bb2b_d85de295b8e6row10_col2\" class=\"data row10 col2\" >0.0298</td>\n",
       "                        <td id=\"T_4045c970_283c_11ed_bb2b_d85de295b8e6row10_col3\" class=\"data row10 col3\" >0.1710</td>\n",
       "                        <td id=\"T_4045c970_283c_11ed_bb2b_d85de295b8e6row10_col4\" class=\"data row10 col4\" >0.8115</td>\n",
       "                        <td id=\"T_4045c970_283c_11ed_bb2b_d85de295b8e6row10_col5\" class=\"data row10 col5\" >0.0132</td>\n",
       "                        <td id=\"T_4045c970_283c_11ed_bb2b_d85de295b8e6row10_col6\" class=\"data row10 col6\" >0.0106</td>\n",
       "                        <td id=\"T_4045c970_283c_11ed_bb2b_d85de295b8e6row10_col7\" class=\"data row10 col7\" >0.2210</td>\n",
       "            </tr>\n",
       "            <tr>\n",
       "                        <th id=\"T_4045c970_283c_11ed_bb2b_d85de295b8e6level0_row11\" class=\"row_heading level0 row11\" >knn</th>\n",
       "                        <td id=\"T_4045c970_283c_11ed_bb2b_d85de295b8e6row11_col0\" class=\"data row11 col0\" >K Neighbors Regressor</td>\n",
       "                        <td id=\"T_4045c970_283c_11ed_bb2b_d85de295b8e6row11_col1\" class=\"data row11 col1\" >0.1555</td>\n",
       "                        <td id=\"T_4045c970_283c_11ed_bb2b_d85de295b8e6row11_col2\" class=\"data row11 col2\" >0.0465</td>\n",
       "                        <td id=\"T_4045c970_283c_11ed_bb2b_d85de295b8e6row11_col3\" class=\"data row11 col3\" >0.2145</td>\n",
       "                        <td id=\"T_4045c970_283c_11ed_bb2b_d85de295b8e6row11_col4\" class=\"data row11 col4\" >0.7022</td>\n",
       "                        <td id=\"T_4045c970_283c_11ed_bb2b_d85de295b8e6row11_col5\" class=\"data row11 col5\" >0.0165</td>\n",
       "                        <td id=\"T_4045c970_283c_11ed_bb2b_d85de295b8e6row11_col6\" class=\"data row11 col6\" >0.0130</td>\n",
       "                        <td id=\"T_4045c970_283c_11ed_bb2b_d85de295b8e6row11_col7\" class=\"data row11 col7\" >0.0740</td>\n",
       "            </tr>\n",
       "            <tr>\n",
       "                        <th id=\"T_4045c970_283c_11ed_bb2b_d85de295b8e6level0_row12\" class=\"row_heading level0 row12\" >dt</th>\n",
       "                        <td id=\"T_4045c970_283c_11ed_bb2b_d85de295b8e6row12_col0\" class=\"data row12 col0\" >Decision Tree Regressor</td>\n",
       "                        <td id=\"T_4045c970_283c_11ed_bb2b_d85de295b8e6row12_col1\" class=\"data row12 col1\" >0.1547</td>\n",
       "                        <td id=\"T_4045c970_283c_11ed_bb2b_d85de295b8e6row12_col2\" class=\"data row12 col2\" >0.0469</td>\n",
       "                        <td id=\"T_4045c970_283c_11ed_bb2b_d85de295b8e6row12_col3\" class=\"data row12 col3\" >0.2156</td>\n",
       "                        <td id=\"T_4045c970_283c_11ed_bb2b_d85de295b8e6row12_col4\" class=\"data row12 col4\" >0.7011</td>\n",
       "                        <td id=\"T_4045c970_283c_11ed_bb2b_d85de295b8e6row12_col5\" class=\"data row12 col5\" >0.0167</td>\n",
       "                        <td id=\"T_4045c970_283c_11ed_bb2b_d85de295b8e6row12_col6\" class=\"data row12 col6\" >0.0129</td>\n",
       "                        <td id=\"T_4045c970_283c_11ed_bb2b_d85de295b8e6row12_col7\" class=\"data row12 col7\" >0.0380</td>\n",
       "            </tr>\n",
       "            <tr>\n",
       "                        <th id=\"T_4045c970_283c_11ed_bb2b_d85de295b8e6level0_row13\" class=\"row_heading level0 row13\" >en</th>\n",
       "                        <td id=\"T_4045c970_283c_11ed_bb2b_d85de295b8e6row13_col0\" class=\"data row13 col0\" >Elastic Net</td>\n",
       "                        <td id=\"T_4045c970_283c_11ed_bb2b_d85de295b8e6row13_col1\" class=\"data row13 col1\" >0.1578</td>\n",
       "                        <td id=\"T_4045c970_283c_11ed_bb2b_d85de295b8e6row13_col2\" class=\"data row13 col2\" >0.0596</td>\n",
       "                        <td id=\"T_4045c970_283c_11ed_bb2b_d85de295b8e6row13_col3\" class=\"data row13 col3\" >0.2350</td>\n",
       "                        <td id=\"T_4045c970_283c_11ed_bb2b_d85de295b8e6row13_col4\" class=\"data row13 col4\" >0.6379</td>\n",
       "                        <td id=\"T_4045c970_283c_11ed_bb2b_d85de295b8e6row13_col5\" class=\"data row13 col5\" >0.0178</td>\n",
       "                        <td id=\"T_4045c970_283c_11ed_bb2b_d85de295b8e6row13_col6\" class=\"data row13 col6\" >0.0132</td>\n",
       "                        <td id=\"T_4045c970_283c_11ed_bb2b_d85de295b8e6row13_col7\" class=\"data row13 col7\" >0.0270</td>\n",
       "            </tr>\n",
       "            <tr>\n",
       "                        <th id=\"T_4045c970_283c_11ed_bb2b_d85de295b8e6level0_row14\" class=\"row_heading level0 row14\" >lasso</th>\n",
       "                        <td id=\"T_4045c970_283c_11ed_bb2b_d85de295b8e6row14_col0\" class=\"data row14 col0\" >Lasso Regression</td>\n",
       "                        <td id=\"T_4045c970_283c_11ed_bb2b_d85de295b8e6row14_col1\" class=\"data row14 col1\" >0.1587</td>\n",
       "                        <td id=\"T_4045c970_283c_11ed_bb2b_d85de295b8e6row14_col2\" class=\"data row14 col2\" >0.0601</td>\n",
       "                        <td id=\"T_4045c970_283c_11ed_bb2b_d85de295b8e6row14_col3\" class=\"data row14 col3\" >0.2361</td>\n",
       "                        <td id=\"T_4045c970_283c_11ed_bb2b_d85de295b8e6row14_col4\" class=\"data row14 col4\" >0.6347</td>\n",
       "                        <td id=\"T_4045c970_283c_11ed_bb2b_d85de295b8e6row14_col5\" class=\"data row14 col5\" >0.0179</td>\n",
       "                        <td id=\"T_4045c970_283c_11ed_bb2b_d85de295b8e6row14_col6\" class=\"data row14 col6\" >0.0133</td>\n",
       "                        <td id=\"T_4045c970_283c_11ed_bb2b_d85de295b8e6row14_col7\" class=\"data row14 col7\" >0.0310</td>\n",
       "            </tr>\n",
       "            <tr>\n",
       "                        <th id=\"T_4045c970_283c_11ed_bb2b_d85de295b8e6level0_row15\" class=\"row_heading level0 row15\" >huber</th>\n",
       "                        <td id=\"T_4045c970_283c_11ed_bb2b_d85de295b8e6row15_col0\" class=\"data row15 col0\" >Huber Regressor</td>\n",
       "                        <td id=\"T_4045c970_283c_11ed_bb2b_d85de295b8e6row15_col1\" class=\"data row15 col1\" >0.2296</td>\n",
       "                        <td id=\"T_4045c970_283c_11ed_bb2b_d85de295b8e6row15_col2\" class=\"data row15 col2\" >0.1083</td>\n",
       "                        <td id=\"T_4045c970_283c_11ed_bb2b_d85de295b8e6row15_col3\" class=\"data row15 col3\" >0.3194</td>\n",
       "                        <td id=\"T_4045c970_283c_11ed_bb2b_d85de295b8e6row15_col4\" class=\"data row15 col4\" >0.3029</td>\n",
       "                        <td id=\"T_4045c970_283c_11ed_bb2b_d85de295b8e6row15_col5\" class=\"data row15 col5\" >0.0241</td>\n",
       "                        <td id=\"T_4045c970_283c_11ed_bb2b_d85de295b8e6row15_col6\" class=\"data row15 col6\" >0.0191</td>\n",
       "                        <td id=\"T_4045c970_283c_11ed_bb2b_d85de295b8e6row15_col7\" class=\"data row15 col7\" >0.2190</td>\n",
       "            </tr>\n",
       "            <tr>\n",
       "                        <th id=\"T_4045c970_283c_11ed_bb2b_d85de295b8e6level0_row16\" class=\"row_heading level0 row16\" >par</th>\n",
       "                        <td id=\"T_4045c970_283c_11ed_bb2b_d85de295b8e6row16_col0\" class=\"data row16 col0\" >Passive Aggressive Regressor</td>\n",
       "                        <td id=\"T_4045c970_283c_11ed_bb2b_d85de295b8e6row16_col1\" class=\"data row16 col1\" >0.2604</td>\n",
       "                        <td id=\"T_4045c970_283c_11ed_bb2b_d85de295b8e6row16_col2\" class=\"data row16 col2\" >0.1612</td>\n",
       "                        <td id=\"T_4045c970_283c_11ed_bb2b_d85de295b8e6row16_col3\" class=\"data row16 col3\" >0.3578</td>\n",
       "                        <td id=\"T_4045c970_283c_11ed_bb2b_d85de295b8e6row16_col4\" class=\"data row16 col4\" >0.0409</td>\n",
       "                        <td id=\"T_4045c970_283c_11ed_bb2b_d85de295b8e6row16_col5\" class=\"data row16 col5\" >0.0267</td>\n",
       "                        <td id=\"T_4045c970_283c_11ed_bb2b_d85de295b8e6row16_col6\" class=\"data row16 col6\" >0.0216</td>\n",
       "                        <td id=\"T_4045c970_283c_11ed_bb2b_d85de295b8e6row16_col7\" class=\"data row16 col7\" >0.0320</td>\n",
       "            </tr>\n",
       "            <tr>\n",
       "                        <th id=\"T_4045c970_283c_11ed_bb2b_d85de295b8e6level0_row17\" class=\"row_heading level0 row17\" >llar</th>\n",
       "                        <td id=\"T_4045c970_283c_11ed_bb2b_d85de295b8e6row17_col0\" class=\"data row17 col0\" >Lasso Least Angle Regression</td>\n",
       "                        <td id=\"T_4045c970_283c_11ed_bb2b_d85de295b8e6row17_col1\" class=\"data row17 col1\" >0.3120</td>\n",
       "                        <td id=\"T_4045c970_283c_11ed_bb2b_d85de295b8e6row17_col2\" class=\"data row17 col2\" >0.1588</td>\n",
       "                        <td id=\"T_4045c970_283c_11ed_bb2b_d85de295b8e6row17_col3\" class=\"data row17 col3\" >0.3971</td>\n",
       "                        <td id=\"T_4045c970_283c_11ed_bb2b_d85de295b8e6row17_col4\" class=\"data row17 col4\" >-0.0066</td>\n",
       "                        <td id=\"T_4045c970_283c_11ed_bb2b_d85de295b8e6row17_col5\" class=\"data row17 col5\" >0.0304</td>\n",
       "                        <td id=\"T_4045c970_283c_11ed_bb2b_d85de295b8e6row17_col6\" class=\"data row17 col6\" >0.0259</td>\n",
       "                        <td id=\"T_4045c970_283c_11ed_bb2b_d85de295b8e6row17_col7\" class=\"data row17 col7\" >0.0280</td>\n",
       "            </tr>\n",
       "            <tr>\n",
       "                        <th id=\"T_4045c970_283c_11ed_bb2b_d85de295b8e6level0_row18\" class=\"row_heading level0 row18\" >dummy</th>\n",
       "                        <td id=\"T_4045c970_283c_11ed_bb2b_d85de295b8e6row18_col0\" class=\"data row18 col0\" >Dummy Regressor</td>\n",
       "                        <td id=\"T_4045c970_283c_11ed_bb2b_d85de295b8e6row18_col1\" class=\"data row18 col1\" >0.3120</td>\n",
       "                        <td id=\"T_4045c970_283c_11ed_bb2b_d85de295b8e6row18_col2\" class=\"data row18 col2\" >0.1588</td>\n",
       "                        <td id=\"T_4045c970_283c_11ed_bb2b_d85de295b8e6row18_col3\" class=\"data row18 col3\" >0.3971</td>\n",
       "                        <td id=\"T_4045c970_283c_11ed_bb2b_d85de295b8e6row18_col4\" class=\"data row18 col4\" >-0.0066</td>\n",
       "                        <td id=\"T_4045c970_283c_11ed_bb2b_d85de295b8e6row18_col5\" class=\"data row18 col5\" >0.0304</td>\n",
       "                        <td id=\"T_4045c970_283c_11ed_bb2b_d85de295b8e6row18_col6\" class=\"data row18 col6\" >0.0259</td>\n",
       "                        <td id=\"T_4045c970_283c_11ed_bb2b_d85de295b8e6row18_col7\" class=\"data row18 col7\" >0.0250</td>\n",
       "            </tr>\n",
       "            <tr>\n",
       "                        <th id=\"T_4045c970_283c_11ed_bb2b_d85de295b8e6level0_row19\" class=\"row_heading level0 row19\" >lar</th>\n",
       "                        <td id=\"T_4045c970_283c_11ed_bb2b_d85de295b8e6row19_col0\" class=\"data row19 col0\" >Least Angle Regression</td>\n",
       "                        <td id=\"T_4045c970_283c_11ed_bb2b_d85de295b8e6row19_col1\" class=\"data row19 col1\" >21190962020.2493</td>\n",
       "                        <td id=\"T_4045c970_283c_11ed_bb2b_d85de295b8e6row19_col2\" class=\"data row19 col2\" >85944697753806013726720.0000</td>\n",
       "                        <td id=\"T_4045c970_283c_11ed_bb2b_d85de295b8e6row19_col3\" class=\"data row19 col3\" >103333472506.3515</td>\n",
       "                        <td id=\"T_4045c970_283c_11ed_bb2b_d85de295b8e6row19_col4\" class=\"data row19 col4\" >-462415005135291608465408.0000</td>\n",
       "                        <td id=\"T_4045c970_283c_11ed_bb2b_d85de295b8e6row19_col5\" class=\"data row19 col5\" >5.5333</td>\n",
       "                        <td id=\"T_4045c970_283c_11ed_bb2b_d85de295b8e6row19_col6\" class=\"data row19 col6\" >1800415695.1861</td>\n",
       "                        <td id=\"T_4045c970_283c_11ed_bb2b_d85de295b8e6row19_col7\" class=\"data row19 col7\" >0.0600</td>\n",
       "            </tr>\n",
       "    </tbody></table>"
      ],
      "text/plain": [
       "<pandas.io.formats.style.Styler at 0x189bc72a160>"
      ]
     },
     "metadata": {},
     "output_type": "display_data"
    },
    {
     "data": {
      "text/plain": [
       "<catboost.core.CatBoostRegressor at 0x189bc724c18>"
      ]
     },
     "metadata": {},
     "output_type": "display_data"
    }
   ],
   "source": [
    "compare_models()"
   ]
  },
  {
   "cell_type": "markdown",
   "metadata": {},
   "source": [
    "## Evaluation\n",
    "#### Splitting into train and test"
   ]
  },
  {
   "cell_type": "code",
   "execution_count": null,
   "metadata": {},
   "outputs": [],
   "source": [
    "data7=data6.copy()"
   ]
  },
  {
   "cell_type": "code",
   "execution_count": null,
   "metadata": {},
   "outputs": [
    {
     "data": {
      "text/plain": [
       "1460"
      ]
     },
     "execution_count": 116,
     "metadata": {},
     "output_type": "execute_result"
    }
   ],
   "source": [
    "len(train0)"
   ]
  },
  {
   "cell_type": "code",
   "execution_count": null,
   "metadata": {},
   "outputs": [],
   "source": [
    "train7=data7.iloc[:len(train0),:]\n",
    "test7=data7.iloc[len(train0):,:]"
   ]
  },
  {
   "cell_type": "markdown",
   "metadata": {},
   "source": [
    "#### Splitting train into X_train and X_test for evaluation"
   ]
  },
  {
   "cell_type": "code",
   "execution_count": null,
   "metadata": {},
   "outputs": [],
   "source": [
    "X=train7\n",
    "y=train0.iloc[:,-1]"
   ]
  },
  {
   "cell_type": "code",
   "execution_count": null,
   "metadata": {},
   "outputs": [],
   "source": [
    "log_y=np.log(y)"
   ]
  },
  {
   "cell_type": "markdown",
   "metadata": {},
   "source": [
    "#### Cross validation score"
   ]
  },
  {
   "cell_type": "code",
   "execution_count": null,
   "metadata": {},
   "outputs": [
    {
     "name": "stdout",
     "output_type": "stream",
     "text": [
      "The cross validation score is: inf\n"
     ]
    },
    {
     "name": "stderr",
     "output_type": "stream",
     "text": [
      "C:\\Users\\admin\\AppData\\Local\\Temp/ipykernel_12952/1869275734.py:2: RuntimeWarning: overflow encountered in exp\n",
      "  print('The cross validation score is:',round(np.exp(-cv_score).mean(),4))\n"
     ]
    }
   ],
   "source": [
    "cv_score=cross_val_score(LinearRegression(),train7,log_y,scoring='neg_mean_squared_error',cv=5)\n",
    "print('The cross validation score is:',round(np.exp(-cv_score).mean(),4))"
   ]
  },
  {
   "cell_type": "markdown",
   "metadata": {},
   "source": [
    "## Submission"
   ]
  },
  {
   "cell_type": "code",
   "execution_count": null,
   "metadata": {},
   "outputs": [],
   "source": [
    "linear_model=LinearRegression().fit(train7,log_y)"
   ]
  },
  {
   "cell_type": "code",
   "execution_count": null,
   "metadata": {},
   "outputs": [],
   "source": [
    "log_pred=linear_model.predict(test7)\n",
    "pred=np.exp(log_pred)"
   ]
  },
  {
   "cell_type": "code",
   "execution_count": null,
   "metadata": {},
   "outputs": [],
   "source": [
    "sub=pd.read_csv('sample_submission.csv')"
   ]
  },
  {
   "cell_type": "code",
   "execution_count": null,
   "metadata": {},
   "outputs": [
    {
     "data": {
      "text/html": [
       "<div>\n",
       "<style scoped>\n",
       "    .dataframe tbody tr th:only-of-type {\n",
       "        vertical-align: middle;\n",
       "    }\n",
       "\n",
       "    .dataframe tbody tr th {\n",
       "        vertical-align: top;\n",
       "    }\n",
       "\n",
       "    .dataframe thead th {\n",
       "        text-align: right;\n",
       "    }\n",
       "</style>\n",
       "<table border=\"1\" class=\"dataframe\">\n",
       "  <thead>\n",
       "    <tr style=\"text-align: right;\">\n",
       "      <th></th>\n",
       "      <th>Id</th>\n",
       "      <th>SalePrice</th>\n",
       "    </tr>\n",
       "  </thead>\n",
       "  <tbody>\n",
       "    <tr>\n",
       "      <th>0</th>\n",
       "      <td>1461</td>\n",
       "      <td>120177.195190</td>\n",
       "    </tr>\n",
       "    <tr>\n",
       "      <th>1</th>\n",
       "      <td>1462</td>\n",
       "      <td>166955.811941</td>\n",
       "    </tr>\n",
       "    <tr>\n",
       "      <th>2</th>\n",
       "      <td>1463</td>\n",
       "      <td>189544.725875</td>\n",
       "    </tr>\n",
       "    <tr>\n",
       "      <th>3</th>\n",
       "      <td>1464</td>\n",
       "      <td>203262.401939</td>\n",
       "    </tr>\n",
       "    <tr>\n",
       "      <th>4</th>\n",
       "      <td>1465</td>\n",
       "      <td>196637.288135</td>\n",
       "    </tr>\n",
       "  </tbody>\n",
       "</table>\n",
       "</div>"
      ],
      "text/plain": [
       "     Id      SalePrice\n",
       "0  1461  120177.195190\n",
       "1  1462  166955.811941\n",
       "2  1463  189544.725875\n",
       "3  1464  203262.401939\n",
       "4  1465  196637.288135"
      ]
     },
     "execution_count": 124,
     "metadata": {},
     "output_type": "execute_result"
    }
   ],
   "source": [
    "sub['SalePrice']=pred\n",
    "sub.head()"
   ]
  },
  {
   "cell_type": "code",
   "execution_count": null,
   "metadata": {},
   "outputs": [],
   "source": [
    "sub.to_csv('sample_submission.csv',index=False)"
   ]
  },
  {
   "cell_type": "markdown",
   "metadata": {},
   "source": [
    "## Kaggle Score: Score: 0.42006"
   ]
  },
  {
   "cell_type": "markdown",
   "metadata": {},
   "source": []
  }
 ],
 "metadata": {
  "kernelspec": {
   "display_name": "Python 3.6.13 ('oldpyfull')",
   "language": "python",
   "name": "python3"
  },
  "language_info": {
   "codemirror_mode": {
    "name": "ipython",
    "version": 3
   },
   "file_extension": ".py",
   "mimetype": "text/x-python",
   "name": "python",
   "nbconvert_exporter": "python",
   "pygments_lexer": "ipython3",
   "version": "3.6.13"
  },
  "orig_nbformat": 4,
  "vscode": {
   "interpreter": {
    "hash": "8ebfa799a182d5bbd82c303631b489c89d4fe8db6a33de89e9b4a33c3d3c5999"
   }
  }
 },
 "nbformat": 4,
 "nbformat_minor": 2
}
